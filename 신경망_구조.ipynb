{
  "nbformat": 4,
  "nbformat_minor": 0,
  "metadata": {
    "colab": {
      "provenance": [],
      "authorship_tag": "ABX9TyO46725LWcharhrphdAGUsZ",
      "include_colab_link": true
    },
    "kernelspec": {
      "name": "python3",
      "display_name": "Python 3"
    },
    "language_info": {
      "name": "python"
    }
  },
  "cells": [
    {
      "cell_type": "markdown",
      "metadata": {
        "id": "view-in-github",
        "colab_type": "text"
      },
      "source": [
        "<a href=\"https://colab.research.google.com/github/tjdudgml3/ms_aischool/blob/main/%EC%8B%A0%EA%B2%BD%EB%A7%9D_%EA%B5%AC%EC%A1%B0.ipynb\" target=\"_parent\"><img src=\"https://colab.research.google.com/assets/colab-badge.svg\" alt=\"Open In Colab\"/></a>"
      ]
    },
    {
      "cell_type": "code",
      "execution_count": 1,
      "metadata": {
        "id": "B_ie-RMVdn4o"
      },
      "outputs": [],
      "source": [
        "import numpy as np\n",
        "import matplotlib.pyplot as plt\n",
        "\n",
        "#퍼센트론\n",
        "\n",
        "# AND 게이트\n",
        "def AND(a, b):\n",
        "  input = np.array([a,b])\n",
        "\n",
        "  #가중치 설정\n",
        "  weights = np.array([0.4,0.4])\n",
        "  bias = -0.6\n",
        "\n",
        "  #출력값\n",
        "  value = np.sum(input * weights) + bias\n",
        "\n",
        "  #반환값\n",
        "  if value <= 0:\n",
        "    return 0\n",
        "  else:\n",
        "    return 1"
      ]
    },
    {
      "cell_type": "code",
      "source": [
        "print(AND(0,0))\n",
        "print(AND(0,1))\n",
        "print(AND(1,0))\n",
        "print(AND(1,1))\n"
      ],
      "metadata": {
        "colab": {
          "base_uri": "https://localhost:8080/"
        },
        "id": "dXQkfSd6dr0x",
        "outputId": "a22190df-078a-423e-d9f5-88f399e7c73c"
      },
      "execution_count": 2,
      "outputs": [
        {
          "output_type": "stream",
          "name": "stdout",
          "text": [
            "0\n",
            "0\n",
            "0\n",
            "1\n"
          ]
        }
      ]
    },
    {
      "cell_type": "code",
      "source": [
        "x1 = np.arange(-2,2, 0.01)\n",
        "x2 = np.arange(-2,2, 0.01)\n",
        "bias = -0.6\n",
        "\n",
        "y = (-0.4 * x1 - bias) / 0.4\n",
        "\n",
        "plt.plot(x1, y, 'r--')\n",
        "plt.scatter(0,0, color='orange', marker='o',s=150)\n",
        "plt.scatter(0,1, color='orange', marker='o',s=150)\n",
        "plt.scatter(1,0, color='orange', marker='o',s=150)\n",
        "plt.scatter(1,1, color='black', marker='^',s=150)\n",
        "plt.xlim(-0.5,1.5)\n",
        "plt.ylim(-0.5,1.5)\n",
        "plt.grid()"
      ],
      "metadata": {
        "colab": {
          "base_uri": "https://localhost:8080/",
          "height": 269
        },
        "id": "9CqlAX-jdtrO",
        "outputId": "d997974a-c7ef-4bdb-a49a-c41fc87e2be5"
      },
      "execution_count": 3,
      "outputs": [
        {
          "output_type": "display_data",
          "data": {
            "text/plain": [
              "<Figure size 432x288 with 1 Axes>"
            ],
            "image/png": "[encoded data removed]"
          },
          "metadata": {
            "needs_background": "light"
          }
        }
      ]
    },
    {
      "cell_type": "code",
      "source": [
        "# OR 게이트\n",
        "def OR(a, b):\n",
        "  input = np.array([a,b])\n",
        "\n",
        "  #가중치 설정\n",
        "  weights = np.array([0.4,0.4])\n",
        "  bias = -0.3\n",
        "\n",
        "  #출력값\n",
        "  value = np.sum(input * weights) + bias\n",
        "\n",
        "  #반환값\n",
        "  if value <= 0:\n",
        "    return 0\n",
        "  else:\n",
        "    return 1"
      ],
      "metadata": {
        "id": "fhW4-e-Odv63"
      },
      "execution_count": 4,
      "outputs": []
    },
    {
      "cell_type": "code",
      "source": [
        "print(OR(0,0))\n",
        "print(OR(0,1))\n",
        "print(OR(1,0))\n",
        "print(OR(1,1))"
      ],
      "metadata": {
        "colab": {
          "base_uri": "https://localhost:8080/"
        },
        "id": "Ime1qUa9dzQ2",
        "outputId": "6b9abd0b-2dcf-40a3-d5e8-78df66c4484a"
      },
      "execution_count": 5,
      "outputs": [
        {
          "output_type": "stream",
          "name": "stdout",
          "text": [
            "0\n",
            "1\n",
            "1\n",
            "1\n"
          ]
        }
      ]
    },
    {
      "cell_type": "code",
      "source": [
        "# NAND 게이트\n",
        "def NAND(a, b):\n",
        "  input = np.array([a,b])\n",
        "\n",
        "  #가중치 설정\n",
        "  weights = np.array([-0.6,-0.6])\n",
        "  bias = 0.7\n",
        "\n",
        "  #출력값\n",
        "  value = np.sum(input * weights) + bias\n",
        "\n",
        "  #반환값\n",
        "  if value <= 0:\n",
        "    return 0\n",
        "  else:\n",
        "    return 1"
      ],
      "metadata": {
        "id": "Mj4wFKNtd06F"
      },
      "execution_count": 6,
      "outputs": []
    },
    {
      "cell_type": "code",
      "source": [
        "print(NAND(0,0))\n",
        "print(NAND(0,1))\n",
        "print(NAND(1,0))\n",
        "print(NAND(1,1))"
      ],
      "metadata": {
        "colab": {
          "base_uri": "https://localhost:8080/"
        },
        "id": "dAyuDlGKd2Np",
        "outputId": "cccd8b52-0da6-4338-e0ed-55c9d3269934"
      },
      "execution_count": 7,
      "outputs": [
        {
          "output_type": "stream",
          "name": "stdout",
          "text": [
            "1\n",
            "1\n",
            "1\n",
            "0\n"
          ]
        }
      ]
    },
    {
      "cell_type": "code",
      "source": [
        "def XOR(x1, x2):\n",
        "  s1 = NAND(x1, x2)\n",
        "  s2 = OR(x1, x2)\n",
        "  y = AND(s1, s2)\n",
        "\n",
        "  return y"
      ],
      "metadata": {
        "id": "C-oyLy2Hd3b1"
      },
      "execution_count": 8,
      "outputs": []
    },
    {
      "cell_type": "code",
      "source": [
        "print(XOR(0,0))\n",
        "print(XOR(0,1))\n",
        "print(XOR(1,0))\n",
        "print(XOR(1,1))"
      ],
      "metadata": {
        "colab": {
          "base_uri": "https://localhost:8080/"
        },
        "id": "Ab5Ev_4vd4xW",
        "outputId": "81ed31d9-dfb6-4e49-b167-cf63ec971fc2"
      },
      "execution_count": 9,
      "outputs": [
        {
          "output_type": "stream",
          "name": "stdout",
          "text": [
            "0\n",
            "1\n",
            "1\n",
            "0\n"
          ]
        }
      ]
    },
    {
      "cell_type": "code",
      "source": [
        "#activation funtion\n",
        "#step function\n",
        "def step_func(x):\n",
        "  return (x > 0)\n"
      ],
      "metadata": {
        "id": "z8R7terHd55B"
      },
      "execution_count": 36,
      "outputs": []
    },
    {
      "cell_type": "code",
      "source": [
        "def step_func_numpy(x):\n",
        "  y = x > 0\n",
        "  value = y.astype(np.int)\n",
        "  return value"
      ],
      "metadata": {
        "id": "Yh19DV9Yi9AR"
      },
      "execution_count": 31,
      "outputs": []
    },
    {
      "cell_type": "code",
      "source": [
        "#sigmoid function 0,1 두개의 class로 분류하는곳에 유용하게 활용(이진분류) like 개 고양이->애매한 결과가 안나오게끔함\n",
        "def sigmoid(x):\n",
        "  value = 1 / (1 + np.exp(-x))\n",
        "  return value\n"
      ],
      "metadata": {
        "id": "AdMRYrAGf-J3"
      },
      "execution_count": 20,
      "outputs": []
    },
    {
      "cell_type": "code",
      "source": [
        "plt.grid()\n",
        "x = np.arange(-5,5,0.1)\n",
        "y1 = sigmoid(x)\n",
        "y2 = step_func_numpy(x)\n",
        "plt.plot(x,y1, 'r-')\n",
        "plt.plot(x, y2, 'b--')"
      ],
      "metadata": {
        "colab": {
          "base_uri": "https://localhost:8080/",
          "height": 358
        },
        "id": "--_BoDNcgA6m",
        "outputId": "95a199aa-5a12-4185-f8f3-ed08487e6db8"
      },
      "execution_count": 33,
      "outputs": [
        {
          "output_type": "stream",
          "name": "stderr",
          "text": [
            "/usr/local/lib/python3.7/dist-packages/ipykernel_launcher.py:3: DeprecationWarning: `np.int` is a deprecated alias for the builtin `int`. To silence this warning, use `int` by itself. Doing this will not modify any behavior and is safe. When replacing `np.int`, you may wish to use e.g. `np.int64` or `np.int32` to specify the precision. If you wish to review your current use, check the release note link for additional information.\n",
            "Deprecated in NumPy 1.20; for more details and guidance: https://numpy.org/devdocs/release/1.20.0-notes.html#deprecations\n",
            "  This is separate from the ipykernel package so we can avoid doing imports until\n"
          ]
        },
        {
          "output_type": "execute_result",
          "data": {
            "text/plain": [
              "[<matplotlib.lines.Line2D at 0x7f76a55a5ed0>]"
            ]
          },
          "metadata": {},
          "execution_count": 33
        },
        {
          "output_type": "display_data",
          "data": {
            "text/plain": [
              "<Figure size 432x288 with 1 Axes>"
            ],
            "image/png": "[encoded data removed]"
          },
          "metadata": {
            "needs_background": "light"
          }
        }
      ]
    },
    {
      "cell_type": "code",
      "source": [
        "#relu, identitiy 는 회기에 사용\n",
        "\n",
        "#relu\n",
        "def relu(x):\n",
        "  if x > 0:\n",
        "    return x\n",
        "  else:\n",
        "    return 0\n"
      ],
      "metadata": {
        "id": "bTGq8Zekh-kr"
      },
      "execution_count": 37,
      "outputs": []
    },
    {
      "cell_type": "code",
      "source": [
        "#softmax 다중클래스 분류\n",
        "#출력값의 합은 항상 1\n",
        "\n",
        "#softmax funtion\n",
        "def softmax(a):\n",
        "  exp_a = np.exp(a)\n",
        "  sum_exp_a = np.sum(exp_a)\n",
        "  y = exp_a / sum_exp_a\n",
        "\n",
        "  return y"
      ],
      "metadata": {
        "id": "Me19otkmlHRp"
      },
      "execution_count": 38,
      "outputs": []
    },
    {
      "cell_type": "code",
      "source": [
        "a = np.array([0.3,0.2,3.0,-1.2])\n",
        "# print(np.exp(a))\n",
        "print(softmax(a))\n",
        "print(np.sum(softmax(a)))"
      ],
      "metadata": {
        "colab": {
          "base_uri": "https://localhost:8080/"
        },
        "id": "A2LZ2Rw7s-p1",
        "outputId": "485a56e2-836b-4d9f-b86d-e32e94adc535"
      },
      "execution_count": 43,
      "outputs": [
        {
          "output_type": "stream",
          "name": "stdout",
          "text": [
            "[0.0587969  0.05320164 0.8748821  0.01311936]\n",
            "1.0\n"
          ]
        }
      ]
    },
    {
      "cell_type": "code",
      "source": [
        "#leakyReLu Relu에서 0 이하의 트렌드를 고려함\n",
        "\n"
      ],
      "metadata": {
        "id": "gHdXflAGtH_P"
      },
      "execution_count": 44,
      "outputs": []
    },
    {
      "cell_type": "code",
      "source": [],
      "metadata": {
        "id": "ffRUXXuIvmMN"
      },
      "execution_count": null,
      "outputs": []
    }
  ]
}