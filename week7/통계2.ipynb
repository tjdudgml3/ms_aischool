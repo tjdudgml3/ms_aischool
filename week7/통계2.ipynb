{
  "nbformat": 4,
  "nbformat_minor": 0,
  "metadata": {
    "colab": {
      "private_outputs": true,
      "provenance": [],
      "include_colab_link": true
    },
    "kernelspec": {
      "name": "python3",
      "display_name": "Python 3"
    },
    "language_info": {
      "name": "python"
    }
  },
  "cells": [
    {
      "cell_type": "markdown",
      "metadata": {
        "id": "view-in-github",
        "colab_type": "text"
      },
      "source": [
        "<a href=\"https://colab.research.google.com/github/tjdudgml3/ms_aischool/blob/main/%ED%86%B5%EA%B3%842.ipynb\" target=\"_parent\"><img src=\"https://colab.research.google.com/assets/colab-badge.svg\" alt=\"Open In Colab\"/></a>"
      ]
    },
    {
      "cell_type": "markdown",
      "source": [
        "# Data Visualization"
      ],
      "metadata": {
        "id": "8MosdP050iot"
      }
    },
    {
      "cell_type": "markdown",
      "source": [
        "데이터 품질 및 분포 특성을 시각적으로 확인하기 위해 사용\n",
        "\n",
        "\n",
        "데이터 이해 및 분석 결과를 설들력 있게 표현하기 위해 사용\n"
      ],
      "metadata": {
        "id": "03V0VM1u0pqT"
      }
    },
    {
      "cell_type": "markdown",
      "source": [
        "모집단 : 분석이 대상이 되는 전체\n",
        "\n",
        "\n",
        "표본집단 : 모집단에서 추출된 모집단의 부분집합\n",
        "\n",
        "모집단의 특성을 추정하기 위해서 통계적인 기법을 사용"
      ],
      "metadata": {
        "id": "wL6QN57v08Es"
      }
    },
    {
      "cell_type": "code",
      "source": [
        "import seaborn as sns\n",
        "iris = sns.load_dataset('iris')\n",
        "iris.head()"
      ],
      "metadata": {
        "id": "XHqz_yl11UFQ"
      },
      "execution_count": null,
      "outputs": []
    },
    {
      "cell_type": "code",
      "source": [
        "iris.info()"
      ],
      "metadata": {
        "id": "ITQXsAGM1yHv"
      },
      "execution_count": null,
      "outputs": []
    },
    {
      "cell_type": "code",
      "source": [
        "setosa_petal_length = iris[iris['species']=='setosa']['petal_length']"
      ],
      "metadata": {
        "id": "W3xAUrSx1-CN"
      },
      "execution_count": null,
      "outputs": []
    },
    {
      "cell_type": "code",
      "source": [
        "setosa_petal_length"
      ],
      "metadata": {
        "id": "Yn6sH3NjRofK"
      },
      "execution_count": null,
      "outputs": []
    },
    {
      "cell_type": "code",
      "source": [
        "import matplotlib.pyplot as plt\n",
        "plt.hist(setosa_petal_length)\n",
        "plt.show()"
      ],
      "metadata": {
        "id": "1MXE4bgU2rIT"
      },
      "execution_count": null,
      "outputs": []
    },
    {
      "cell_type": "code",
      "source": [
        "iris[iris['species']=='setosa']['petal_length'].plot.density()\n",
        "plt.show()"
      ],
      "metadata": {
        "id": "wMMaT7l63aZT"
      },
      "execution_count": null,
      "outputs": []
    },
    {
      "cell_type": "markdown",
      "source": [
        "커널 밀도 추정은 커널 함수를 이용한 밀도 추정 방법 중 하나\n",
        "\n",
        "밀도 추정이란 추출된 데이터들을 이용해서 밀도함수를 구하는 것\n",
        "\n"
      ],
      "metadata": {
        "id": "AM-pYD0y4wT2"
      }
    },
    {
      "cell_type": "code",
      "source": [
        "ax = iris[iris['species'] == 'setosa']['petal_length'].plot.hist(density=True)\n",
        "iris[iris['species'] == 'setosa']['petal_length'].plot.density(ax=ax)\n",
        "plt.show()"
      ],
      "metadata": {
        "id": "adYOkZBI5w98"
      },
      "execution_count": null,
      "outputs": []
    },
    {
      "cell_type": "markdown",
      "source": [],
      "metadata": {
        "id": "xUODk3tK7C02"
      }
    },
    {
      "cell_type": "markdown",
      "source": [
        "**왜도(Skewness)**\n",
        "\n",
        "데이터의 분포에 따라서 오른쪽으로 치우쳤는지 왼쪽으로 치우쳤는지를 확인확인\n",
        "\n",
        "Nagative skewness : 데이터의 중심이 오른쪽이 치우쳐졌을때\n",
        "\n",
        "Positive skewness : 데이터의 중심이 왼쪽에 치우쳐졌을때"
      ],
      "metadata": {
        "id": "KQd6XzHH6dig"
      }
    },
    {
      "cell_type": "markdown",
      "source": [
        "**첨도(Kurtosis)**\n",
        "\n",
        "\n",
        "데이터가 얼마나 평균에 모여있는지\n",
        "\n",
        "Leptokurtic(고첨) : 정규분포바다 많이 몰려 있어서 뾰족\n",
        "\n",
        "\n",
        "Mesokutic(중첨) : 정규 분포와 유사\n",
        "\n",
        "\n",
        "Pltykutic(저첨) : 정규 분포보다 완만"
      ],
      "metadata": {
        "id": "r2_LKLdk8iBi"
      }
    },
    {
      "cell_type": "code",
      "source": [
        "fig, ax = plt.subplots(1,1)\n",
        "\n",
        "for species in iris['species'].unique():\n",
        "  width_series = iris[iris['species']==species]['sepal_width']\n",
        "  width_series.plot.hist(alpha = 0.5, ax=ax, label=species)\n",
        "plt.legend()\n",
        "plt.show()"
      ],
      "metadata": {
        "id": "eyyzQpd78ehW"
      },
      "execution_count": null,
      "outputs": []
    },
    {
      "cell_type": "code",
      "source": [
        "# Box Plot\n",
        "iris.boxplot(by='species', layout=(2,2), figsize=(12,8))\n",
        "plt.show()"
      ],
      "metadata": {
        "id": "_Of70i_u93wm"
      },
      "execution_count": null,
      "outputs": []
    },
    {
      "cell_type": "code",
      "source": [
        "# Violin plot\n",
        "import matplotlib.pyplot as plt\n",
        "fig, ax = plt.subplots(2,2, figsize=(12,8))\n",
        "for i, col in enumerate(['petal_length','petal_width','sepal_length','sepal_width']):\n",
        "  sns.violinplot(data=iris, x='species', y=col, ax=ax[i//2][i%2])\n",
        "\n",
        "plt.show()                 "
      ],
      "metadata": {
        "id": "StbHWpSU96Ac"
      },
      "execution_count": null,
      "outputs": []
    },
    {
      "cell_type": "markdown",
      "source": [
        "## 단어\n",
        "**모집단**\n",
        "* 조사 대상이 되는 모든집단\n",
        "\n",
        "**표폰(Sampling)집단**\n",
        "* 모집단의 부분집합\n",
        "\n",
        "**모수**\n",
        "* 모집단의 어떤 값\n",
        "\n",
        "**통계량**\n",
        "* 표본 집단의 정보\n"
      ],
      "metadata": {
        "id": "R8jbJQ3gGMHd"
      }
    },
    {
      "cell_type": "markdown",
      "source": [
        "## 데이터의 중심\n",
        "\n",
        "**최빈값(mode)**\n",
        "\n",
        "* 빈도가 가장 높은값\n",
        "* 범주형 데이터의 대표값\n",
        "* 2개 이상 존재\n",
        "\n",
        "\n",
        "**중앙값**\n",
        "* 데이터를 내림차순 해서 가장 중간에 있는 데이터\n",
        "* 짝수개 일 경우는 중앙에 있는 데이터 두개를 더하고 나눈 값이 중앙값\n",
        "\n",
        "\n",
        "**산술평균**\n",
        "* 일반적으로 사용하는 평균\n",
        "* 극단값 이상치에 영향을 많이 받는 통계량\n",
        "* 데이터의 개수로 나눔\n",
        "* 절삭평균으로 극단값에 대해 보정\n",
        "\n",
        "**가중평균**\n",
        "* 일반적인 산술 평균 각각의 데이터마다 중요도에 따라서 가중치\n",
        "* 가중치를 다 더한 값으로 나눠줌\n",
        "\n",
        "**기하평균**\n",
        "* 성장률이나 증가율 이런 비율에 대한 데이터를 평균 낼 때 사용\n",
        "* 음수나 0의 데이터가 있는 경우에는 적용을 못합니다.\n",
        "\n",
        "**편차**\n",
        "* 데이터 값과 평균을 빼준 값\n",
        "\n",
        "**분산**\n",
        "* 편차의 제곱의 합을 데이터 수로 나눈 값\n",
        "* 편차를 다 더하면 0나오기 때문에 제곱을 진행\n",
        "* 편차가 큰 데이터 값에 대해 영향정도를 키우기 위해서\n",
        "\n",
        "**표준편차**\n",
        "* 분산의 제곱근을 한 값"
      ],
      "metadata": {
        "id": "iGcNNQXWDut1"
      }
    },
    {
      "cell_type": "code",
      "source": [
        "import numpy as np\n",
        "data = np.arange(10, 20, 0.1)"
      ],
      "metadata": {
        "id": "4KkciTszIj44"
      },
      "execution_count": null,
      "outputs": []
    },
    {
      "cell_type": "code",
      "source": [
        "sum_ = 0\n",
        "for i in data:\n",
        "  sum_ += i\n",
        "sum_/len(data)\n",
        "# data.mean()"
      ],
      "metadata": {
        "id": "ZlINiivCItfy"
      },
      "execution_count": null,
      "outputs": []
    },
    {
      "cell_type": "code",
      "source": [
        "data.mean()"
      ],
      "metadata": {
        "id": "B6goSgV7I5_Q"
      },
      "execution_count": null,
      "outputs": []
    },
    {
      "cell_type": "code",
      "source": [
        "from scipy.stats import trim_mean\n",
        "data = np.array([1, 2, 2, 3, 3, 3, 4, 4, 5, 10])\n",
        "mean_ = np.mean(data)\n",
        "trim_mean_ = trim_mean(data, 0.1)\n",
        "median = np.median(data)\n",
        "print(f'''\n",
        "mean = {mean_}\n",
        "절삭평균 = {trim_mean_}\n",
        "중앙값 = {median}\n",
        "''')"
      ],
      "metadata": {
        "id": "f3Z1ntbYJjDP"
      },
      "execution_count": null,
      "outputs": []
    },
    {
      "cell_type": "code",
      "source": [
        "from scipy.stats import trim_mean\n",
        "data = np.array([1, 2, 2, 3, 3, 3, 4, 4, 5, 10, 9999999999])\n",
        "mean_ = np.mean(data)\n",
        "trim_mean_ = trim_mean(data, 0.1)\n",
        "median = np.median(data)\n",
        "print(f'''\n",
        "mean = {mean_}\n",
        "절삭평균 = {trim_mean_}\n",
        "중앙값 = {median}\n",
        "''')"
      ],
      "metadata": {
        "id": "4XEO_7qAK3xW"
      },
      "execution_count": null,
      "outputs": []
    },
    {
      "cell_type": "code",
      "source": [
        "data = np.array([1, 2, 2, 3, 3, 3, 4, 4, 5, 10, 9999999999])\n",
        "data_length = len(data)\n",
        "\n",
        "if data_length %2 == 0:\n",
        "  idx = data_length//2\n",
        "  median = (data[idx] + data[idx+1])/2\n",
        "\n",
        "else:\n",
        "  idx = data_length//2\n",
        "  median = data[idx]\n",
        "  \n",
        "print('중앙값 : ', median)"
      ],
      "metadata": {
        "id": "4Mk96i0GLJXd"
      },
      "execution_count": null,
      "outputs": []
    },
    {
      "cell_type": "markdown",
      "source": [
        "### 가중평균"
      ],
      "metadata": {
        "id": "0Aw74YJ3RqN0"
      }
    },
    {
      "cell_type": "code",
      "source": [
        "data = np.array([10, 20, 30, 40, 50 ,60 ,70, 80, 90, 100])\n",
        "weights = np.array([0.1, 0.05, 0.3, 0.05, 0.15, 0.025, 0.025, 0.05, 0.125 ,0.175])"
      ],
      "metadata": {
        "id": "QXjMu9vUMS3j"
      },
      "execution_count": null,
      "outputs": []
    },
    {
      "cell_type": "code",
      "source": [
        "sum_ = 0\n",
        "for idx in range(len(data)):\n",
        "  sum_ += weights[idx]*data[idx]\n",
        "print(sum_/sum(weights))"
      ],
      "metadata": {
        "id": "mIat2WuyPNv9"
      },
      "execution_count": null,
      "outputs": []
    },
    {
      "cell_type": "markdown",
      "source": [
        "### 최빈값"
      ],
      "metadata": {
        "id": "7W-UxgsjRuJc"
      }
    },
    {
      "cell_type": "code",
      "source": [
        "import numpy as np\n",
        "data = np.array([1,1,2,2,2,3,4,5,6,7,7,7,7,7,8,8,9,10])\n",
        "count_dict = dict()\n",
        "for d in data:\n",
        "  if d not in count_dict:\n",
        "    count_dict[d] = 1\n",
        "  else:\n",
        "    count_dict[d] += 1\n",
        "\n",
        "def func(x):\n",
        "  return x[1]\n",
        "\n",
        "sorted(count_dict.items(), key=lambda x: x[1], reverse=True)[0][0]"
      ],
      "metadata": {
        "id": "2CFrUXroRwKH"
      },
      "execution_count": null,
      "outputs": []
    },
    {
      "cell_type": "markdown",
      "source": [
        "## 편차 표준편차 분산"
      ],
      "metadata": {
        "id": "DUvrglrZTfJe"
      }
    },
    {
      "cell_type": "code",
      "source": [
        "norm = np.random.normal(10.0, 2.0, 100)"
      ],
      "metadata": {
        "id": "uV8452IwTGB4"
      },
      "execution_count": null,
      "outputs": []
    },
    {
      "cell_type": "code",
      "source": [
        "# 평균\n",
        "norm_mean = norm.mean()"
      ],
      "metadata": {
        "id": "s46jBXyNT0MJ"
      },
      "execution_count": null,
      "outputs": []
    },
    {
      "cell_type": "code",
      "source": [
        "# 편차\n",
        "norm_dev = [i-norm_mean for i in norm]"
      ],
      "metadata": {
        "id": "faHhaFZBT16u"
      },
      "execution_count": null,
      "outputs": []
    },
    {
      "cell_type": "code",
      "source": [
        "# 분산\n",
        "norm_var = sum([i**2 for i in norm_dev])/(len(norm) - 1)"
      ],
      "metadata": {
        "id": "SNeApIk-UFnb"
      },
      "execution_count": null,
      "outputs": []
    },
    {
      "cell_type": "code",
      "source": [
        "# 표준편차\n",
        "import math\n",
        "math.sqrt(norm_var)\n",
        "# np.std(norm_var) # 넘파이 내 표준편차 구하는 메서드"
      ],
      "metadata": {
        "id": "LQS-EfY5Us1M"
      },
      "execution_count": null,
      "outputs": []
    },
    {
      "cell_type": "markdown",
      "source": [
        "### 기하평균"
      ],
      "metadata": {
        "id": "vUOg3fsvVvEm"
      }
    },
    {
      "cell_type": "code",
      "source": [
        "score_rate = [1.1, 2.1, 0.91, 0.14, 0.51]\n",
        "mul_ = 1\n",
        "for rate in score_rate:\n",
        "  mul_ *= rate\n",
        "\n",
        "geometric_mean = mul_**(1/len(score_rate))"
      ],
      "metadata": {
        "id": "-_qR3Wt7VE77"
      },
      "execution_count": null,
      "outputs": []
    },
    {
      "cell_type": "code",
      "source": [
        "geometric_mean"
      ],
      "metadata": {
        "id": "4DZ1ha7rWlCo"
      },
      "execution_count": null,
      "outputs": []
    },
    {
      "cell_type": "markdown",
      "source": [
        "## 실습"
      ],
      "metadata": {
        "id": "dPX9bC7_XMQV"
      }
    },
    {
      "cell_type": "code",
      "source": [
        "import seaborn as sns\n",
        "dataset = sns.get_dataset_names()"
      ],
      "metadata": {
        "id": "Afey1wUaXPDX"
      },
      "execution_count": null,
      "outputs": []
    },
    {
      "cell_type": "code",
      "source": [
        "dataset"
      ],
      "metadata": {
        "id": "fm-eowsMXV7S"
      },
      "execution_count": null,
      "outputs": []
    },
    {
      "cell_type": "code",
      "source": [
        "pegnuins = sns.load_dataset('penguins')"
      ],
      "metadata": {
        "id": "pgGtsXbqXZmk"
      },
      "execution_count": null,
      "outputs": []
    },
    {
      "cell_type": "code",
      "source": [
        "pegnuins.head()"
      ],
      "metadata": {
        "id": "Tsv65uiYXwWw"
      },
      "execution_count": null,
      "outputs": []
    },
    {
      "cell_type": "code",
      "source": [
        "pegnuins.info()"
      ],
      "metadata": {
        "id": "b6LpfklzX0re"
      },
      "execution_count": null,
      "outputs": []
    },
    {
      "cell_type": "code",
      "source": [
        "pegnuins[pegnuins['flipper_length_mm'].isnull()]"
      ],
      "metadata": {
        "id": "qSLGA_2AYSuI"
      },
      "execution_count": null,
      "outputs": []
    },
    {
      "cell_type": "code",
      "source": [
        "pegnuins['species']"
      ],
      "metadata": {
        "id": "yR9pqv0OYqdR"
      },
      "execution_count": null,
      "outputs": []
    },
    {
      "cell_type": "code",
      "source": [
        "bill_length_mm = pegnuins[pegnuins['bill_length_mm'].isnull()==False]\n",
        "bill_depth_mm = pegnuins[pegnuins['bill_depth_mm'].isnull()==False]\n",
        "flipper_length_mm = pegnuins[pegnuins['flipper_length_mm'].isnull()==False]\n",
        "body_mass_g = pegnuins[pegnuins['body_mass_g'].isnull()==False]\n",
        "notnull_punguins = pegnuins[pegnuins['sex'].isnull()==False]"
      ],
      "metadata": {
        "id": "j_k-5xlPsxpR"
      },
      "execution_count": null,
      "outputs": []
    },
    {
      "cell_type": "code",
      "source": [
        "notnull_punguins[notnull_punguins['flipper_length_mm'].isnull() == False]"
      ],
      "metadata": {
        "id": "mX8BZEyTSnh4"
      },
      "execution_count": null,
      "outputs": []
    },
    {
      "cell_type": "code",
      "source": [
        "notnull_punguins.info()"
      ],
      "metadata": {
        "id": "VMD-1z-wuZMU"
      },
      "execution_count": null,
      "outputs": []
    },
    {
      "cell_type": "code",
      "source": [
        "# Violin plot\n",
        "import matplotlib.pyplot as plt\n",
        "fig, ax = plt.subplots(2,2, figsize=(12,8))\n",
        "\n",
        "for i, col in enumerate(['bill_length_mm','bill_depth_mm','flipper_length_mm','body_mass_g']):\n",
        "  sns.violinplot(data=bill_length_mm, x='species', y=col, ax=ax[i//2][i%2])\n",
        "\n",
        "plt.show()                 "
      ],
      "metadata": {
        "id": "luJV4q3FZtB0"
      },
      "execution_count": null,
      "outputs": []
    },
    {
      "cell_type": "code",
      "source": [
        "import matplotlib.pyplot as plt\n",
        "fig, ax = plt.subplots(2,2, figsize=(12,8))\n",
        "\n",
        "for i, col in enumerate(['bill_length_mm','bill_depth_mm','flipper_length_mm','body_mass_g']):\n",
        "  sns.violinplot(data=notnull_punguins, x='sex', y=col, ax=ax[i//2][i%2])\n",
        "\n",
        "plt.show()        "
      ],
      "metadata": {
        "id": "OUfuCqtNpGqZ"
      },
      "execution_count": null,
      "outputs": []
    },
    {
      "cell_type": "code",
      "source": [
        "notnull_punguins[notnull_punguins['species']=='Gentoo']['bill_length_mm'].plot.density()\n",
        "plt.show()"
      ],
      "metadata": {
        "id": "y5V9DQCCvyTQ"
      },
      "execution_count": null,
      "outputs": []
    },
    {
      "cell_type": "code",
      "source": [],
      "metadata": {
        "id": "O-zjtq2lwUuD"
      },
      "execution_count": null,
      "outputs": []
    }
  ]
}