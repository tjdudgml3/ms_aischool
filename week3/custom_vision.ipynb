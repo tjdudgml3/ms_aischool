{
  "nbformat": 4,
  "nbformat_minor": 0,
  "metadata": {
    "colab": {
      "provenance": [],
      "authorship_tag": "ABX9TyNJMOS0zEx51Isu5sfdTeMt",
      "include_colab_link": true
    },
    "kernelspec": {
      "name": "python3",
      "display_name": "Python 3"
    },
    "language_info": {
      "name": "python"
    }
  },
  "cells": [
    {
      "cell_type": "markdown",
      "metadata": {
        "id": "view-in-github",
        "colab_type": "text"
      },
      "source": [
        "<a href=\"https://colab.research.google.com/github/tjdudgml3/ms_aischool/blob/main/custom_vision.ipynb\" target=\"_parent\"><img src=\"https://colab.research.google.com/assets/colab-badge.svg\" alt=\"Open In Colab\"/></a>"
      ]
    },
    {
      "cell_type": "code",
      "execution_count": 1,
      "metadata": {
        "colab": {
          "base_uri": "https://localhost:8080/"
        },
        "id": "B-yrh08Op8OE",
        "outputId": "4de57804-0c49-46ce-ee3f-93b3e77ef58a"
      },
      "outputs": [
        {
          "output_type": "stream",
          "name": "stdout",
          "text": [
            "Looking in indexes: https://pypi.org/simple, https://us-python.pkg.dev/colab-wheels/public/simple/\n",
            "Collecting azure-cognitiveservices-vision-customvision\n",
            "  Downloading azure_cognitiveservices_vision_customvision-3.1.0-py2.py3-none-any.whl (62 kB)\n",
            "\u001b[K     |████████████████████████████████| 62 kB 522 kB/s \n",
            "\u001b[?25hCollecting msrest>=0.5.0\n",
            "  Downloading msrest-0.7.1-py3-none-any.whl (85 kB)\n",
            "\u001b[K     |████████████████████████████████| 85 kB 3.6 MB/s \n",
            "\u001b[?25hCollecting azure-common~=1.1\n",
            "  Downloading azure_common-1.1.28-py2.py3-none-any.whl (14 kB)\n",
            "Requirement already satisfied: certifi>=2017.4.17 in /usr/local/lib/python3.7/dist-packages (from msrest>=0.5.0->azure-cognitiveservices-vision-customvision) (2022.9.24)\n",
            "Collecting azure-core>=1.24.0\n",
            "  Downloading azure_core-1.26.0-py3-none-any.whl (178 kB)\n",
            "\u001b[K     |████████████████████████████████| 178 kB 41.6 MB/s \n",
            "\u001b[?25hRequirement already satisfied: requests-oauthlib>=0.5.0 in /usr/local/lib/python3.7/dist-packages (from msrest>=0.5.0->azure-cognitiveservices-vision-customvision) (1.3.1)\n",
            "Requirement already satisfied: requests~=2.16 in /usr/local/lib/python3.7/dist-packages (from msrest>=0.5.0->azure-cognitiveservices-vision-customvision) (2.23.0)\n",
            "Collecting isodate>=0.6.0\n",
            "  Downloading isodate-0.6.1-py2.py3-none-any.whl (41 kB)\n",
            "\u001b[K     |████████████████████████████████| 41 kB 550 kB/s \n",
            "\u001b[?25hRequirement already satisfied: typing-extensions>=4.0.1 in /usr/local/lib/python3.7/dist-packages (from azure-core>=1.24.0->msrest>=0.5.0->azure-cognitiveservices-vision-customvision) (4.1.1)\n",
            "Requirement already satisfied: six>=1.11.0 in /usr/local/lib/python3.7/dist-packages (from azure-core>=1.24.0->msrest>=0.5.0->azure-cognitiveservices-vision-customvision) (1.15.0)\n",
            "Requirement already satisfied: chardet<4,>=3.0.2 in /usr/local/lib/python3.7/dist-packages (from requests~=2.16->msrest>=0.5.0->azure-cognitiveservices-vision-customvision) (3.0.4)\n",
            "Requirement already satisfied: urllib3!=1.25.0,!=1.25.1,<1.26,>=1.21.1 in /usr/local/lib/python3.7/dist-packages (from requests~=2.16->msrest>=0.5.0->azure-cognitiveservices-vision-customvision) (1.24.3)\n",
            "Requirement already satisfied: idna<3,>=2.5 in /usr/local/lib/python3.7/dist-packages (from requests~=2.16->msrest>=0.5.0->azure-cognitiveservices-vision-customvision) (2.10)\n",
            "Requirement already satisfied: oauthlib>=3.0.0 in /usr/local/lib/python3.7/dist-packages (from requests-oauthlib>=0.5.0->msrest>=0.5.0->azure-cognitiveservices-vision-customvision) (3.2.1)\n",
            "Installing collected packages: isodate, azure-core, msrest, azure-common, azure-cognitiveservices-vision-customvision\n",
            "Successfully installed azure-cognitiveservices-vision-customvision-3.1.0 azure-common-1.1.28 azure-core-1.26.0 isodate-0.6.1 msrest-0.7.1\n"
          ]
        }
      ],
      "source": [
        "!pip3 install azure-cognitiveservices-vision-customvision"
      ]
    },
    {
      "cell_type": "code",
      "source": [
        "from azure.cognitiveservices.vision.customvision.training import CustomVisionTrainingClient\n",
        "from azure.cognitiveservices.vision.customvision.prediction import CustomVisionPredictionClient\n",
        "from azure.cognitiveservices.vision.customvision.training.models import ImageFileCreateBatch, ImageFileCreateEntry, Region\n",
        "from msrest.authentication import ApiKeyCredentials\n",
        "import os, time, uuid"
      ],
      "metadata": {
        "id": "Dhw85c7w4EoP"
      },
      "execution_count": 22,
      "outputs": []
    },
    {
      "cell_type": "code",
      "source": [
        "ENDPOINT = 'https://labuser71custom.cognitiveservices.azure.com/'\n",
        "training_key = 'eaeee9816cd94a4a9dd3f0aea3d4b229'\n",
        "prediction_key = '97d16b06e2a246de95a82955c90fab78'\n",
        "prediction_resource_id = '/subscriptions/7ae06d59-97e1-4a36-bbfe-efb081b9b03b/resourceGroups/RG71/providers/Microsoft.CognitiveServices/accounts/labuser71custom'"
      ],
      "metadata": {
        "id": "oslaDeTM6qb1"
      },
      "execution_count": 23,
      "outputs": []
    },
    {
      "cell_type": "code",
      "source": [],
      "metadata": {
        "id": "11HgJzztBUEU"
      },
      "execution_count": 23,
      "outputs": []
    },
    {
      "cell_type": "code",
      "source": [
        "from azure.cognitiveservices.vision.customvision import training\n",
        "publish_iteration_name = \"classifyModel\"\n",
        "\n",
        "credentials = ApiKeyCredentials(in_headers={\"Training-key\": training_key})\n",
        "trainer = CustomVisionTrainingClient(ENDPOINT, credentials)"
      ],
      "metadata": {
        "id": "atHmNakL_v5H"
      },
      "execution_count": 24,
      "outputs": []
    },
    {
      "cell_type": "code",
      "source": [
        "print('Creating project...')\n",
        "project = trainer.create_project(\"Labuser71 project\")"
      ],
      "metadata": {
        "colab": {
          "base_uri": "https://localhost:8080/"
        },
        "id": "XvZtMI4tBovR",
        "outputId": "1d24a9b8-7d83-4bd2-95a5-b568d521c11e"
      },
      "execution_count": 25,
      "outputs": [
        {
          "output_type": "stream",
          "name": "stdout",
          "text": [
            "Creating project...\n"
          ]
        }
      ]
    },
    {
      "cell_type": "code",
      "source": [
        "Jajangmyeon_tag = trainer.create_tag(project.id, \"Jajangmyeon\")\n",
        "Champon_tag = trainer.create_tag(project.id, \"Champon\")\n",
        "Tangsuyug_tag = trainer.create_tag(project.id, \"Tangsuyug\")"
      ],
      "metadata": {
        "colab": {
          "base_uri": "https://localhost:8080/",
          "height": 340
        },
        "id": "b6tfGne-CiFr",
        "outputId": "33d8b0f2-cd23-438e-df1a-5aaaa24e7587"
      },
      "execution_count": 29,
      "outputs": [
        {
          "output_type": "error",
          "ename": "CustomVisionErrorException",
          "evalue": "ignored",
          "traceback": [
            "\u001b[0;31m---------------------------------------------------------------------------\u001b[0m",
            "\u001b[0;31mCustomVisionErrorException\u001b[0m                Traceback (most recent call last)",
            "\u001b[0;32m<ipython-input-29-db64f524414a>\u001b[0m in \u001b[0;36m<module>\u001b[0;34m\u001b[0m\n\u001b[0;32m----> 1\u001b[0;31m \u001b[0mJajangmyeon_tag\u001b[0m \u001b[0;34m=\u001b[0m \u001b[0mtrainer\u001b[0m\u001b[0;34m.\u001b[0m\u001b[0mcreate_tag\u001b[0m\u001b[0;34m(\u001b[0m\u001b[0mproject\u001b[0m\u001b[0;34m.\u001b[0m\u001b[0mid\u001b[0m\u001b[0;34m,\u001b[0m \u001b[0;34m\"Jajangmyeon\"\u001b[0m\u001b[0;34m)\u001b[0m\u001b[0;34m\u001b[0m\u001b[0;34m\u001b[0m\u001b[0m\n\u001b[0m\u001b[1;32m      2\u001b[0m \u001b[0mChampon_tag\u001b[0m \u001b[0;34m=\u001b[0m \u001b[0mtrainer\u001b[0m\u001b[0;34m.\u001b[0m\u001b[0mcreate_tag\u001b[0m\u001b[0;34m(\u001b[0m\u001b[0mproject\u001b[0m\u001b[0;34m.\u001b[0m\u001b[0mid\u001b[0m\u001b[0;34m,\u001b[0m \u001b[0;34m\"Champon\"\u001b[0m\u001b[0;34m)\u001b[0m\u001b[0;34m\u001b[0m\u001b[0;34m\u001b[0m\u001b[0m\n\u001b[1;32m      3\u001b[0m \u001b[0mTangsuyug_tag\u001b[0m \u001b[0;34m=\u001b[0m \u001b[0mtrainer\u001b[0m\u001b[0;34m.\u001b[0m\u001b[0mcreate_tag\u001b[0m\u001b[0;34m(\u001b[0m\u001b[0mproject\u001b[0m\u001b[0;34m.\u001b[0m\u001b[0mid\u001b[0m\u001b[0;34m,\u001b[0m \u001b[0;34m\"Tangsuyug\"\u001b[0m\u001b[0;34m)\u001b[0m\u001b[0;34m\u001b[0m\u001b[0;34m\u001b[0m\u001b[0m\n",
            "\u001b[0;32m/usr/local/lib/python3.7/dist-packages/azure/cognitiveservices/vision/customvision/training/operations/_custom_vision_training_client_operations.py\u001b[0m in \u001b[0;36mcreate_tag\u001b[0;34m(self, project_id, name, description, type, custom_headers, raw, **operation_config)\u001b[0m\n\u001b[1;32m   2943\u001b[0m \u001b[0;34m\u001b[0m\u001b[0m\n\u001b[1;32m   2944\u001b[0m         \u001b[0;32mif\u001b[0m \u001b[0mresponse\u001b[0m\u001b[0;34m.\u001b[0m\u001b[0mstatus_code\u001b[0m \u001b[0;32mnot\u001b[0m \u001b[0;32min\u001b[0m \u001b[0;34m[\u001b[0m\u001b[0;36m200\u001b[0m\u001b[0;34m]\u001b[0m\u001b[0;34m:\u001b[0m\u001b[0;34m\u001b[0m\u001b[0;34m\u001b[0m\u001b[0m\n\u001b[0;32m-> 2945\u001b[0;31m             \u001b[0;32mraise\u001b[0m \u001b[0mmodels\u001b[0m\u001b[0;34m.\u001b[0m\u001b[0mCustomVisionErrorException\u001b[0m\u001b[0;34m(\u001b[0m\u001b[0mself\u001b[0m\u001b[0;34m.\u001b[0m\u001b[0m_deserialize\u001b[0m\u001b[0;34m,\u001b[0m \u001b[0mresponse\u001b[0m\u001b[0;34m)\u001b[0m\u001b[0;34m\u001b[0m\u001b[0;34m\u001b[0m\u001b[0m\n\u001b[0m\u001b[1;32m   2946\u001b[0m \u001b[0;34m\u001b[0m\u001b[0m\n\u001b[1;32m   2947\u001b[0m         \u001b[0mdeserialized\u001b[0m \u001b[0;34m=\u001b[0m \u001b[0;32mNone\u001b[0m\u001b[0;34m\u001b[0m\u001b[0;34m\u001b[0m\u001b[0m\n",
            "\u001b[0;31mCustomVisionErrorException\u001b[0m: Name not unique: Jajangmyeon, Project: 11fac885-5fb9-4f0d-af44-71e51f50e26e"
          ]
        }
      ]
    },
    {
      "cell_type": "code",
      "source": [
        "import time\n"
      ],
      "metadata": {
        "id": "Q5I8HNB7CsT7"
      },
      "execution_count": 27,
      "outputs": []
    },
    {
      "cell_type": "code",
      "source": [
        "print('Training....')\n",
        "iteration = trainer.train_project(project.id)\n",
        "while (iteration.status != 'Completed'):\n",
        "  iteration = trainer.get_iteration(project.id, iteration.id)\n",
        "  print('Training status' + iteration.status)\n",
        "\n",
        "  time.sleep(2)\n",
        "\n",
        "print('Done!')"
      ],
      "metadata": {
        "colab": {
          "base_uri": "https://localhost:8080/"
        },
        "id": "E_2d9hqtEC1U",
        "outputId": "449352c5-0b0b-4776-8381-ab051ec5a2c7"
      },
      "execution_count": 30,
      "outputs": [
        {
          "output_type": "stream",
          "name": "stdout",
          "text": [
            "Training....\n",
            "Training statusTraining\n",
            "Training statusTraining\n",
            "Training statusTraining\n",
            "Training statusTraining\n",
            "Training statusTraining\n",
            "Training statusTraining\n",
            "Training statusTraining\n",
            "Training statusTraining\n",
            "Training statusTraining\n",
            "Training statusTraining\n",
            "Training statusTraining\n",
            "Training statusTraining\n",
            "Training statusTraining\n",
            "Training statusTraining\n",
            "Training statusTraining\n",
            "Training statusTraining\n",
            "Training statusTraining\n",
            "Training statusTraining\n",
            "Training statusTraining\n",
            "Training statusTraining\n",
            "Training statusTraining\n",
            "Training statusTraining\n",
            "Training statusTraining\n",
            "Training statusTraining\n",
            "Training statusTraining\n",
            "Training statusTraining\n",
            "Training statusTraining\n",
            "Training statusTraining\n",
            "Training statusTraining\n",
            "Training statusTraining\n",
            "Training statusTraining\n",
            "Training statusTraining\n",
            "Training statusTraining\n",
            "Training statusTraining\n",
            "Training statusTraining\n",
            "Training statusTraining\n",
            "Training statusTraining\n",
            "Training statusTraining\n",
            "Training statusTraining\n",
            "Training statusTraining\n",
            "Training statusTraining\n",
            "Training statusTraining\n",
            "Training statusTraining\n",
            "Training statusTraining\n",
            "Training statusTraining\n",
            "Training statusTraining\n",
            "Training statusTraining\n",
            "Training statusTraining\n",
            "Training statusTraining\n",
            "Training statusTraining\n",
            "Training statusTraining\n",
            "Training statusTraining\n",
            "Training statusTraining\n",
            "Training statusTraining\n",
            "Training statusTraining\n",
            "Training statusTraining\n",
            "Training statusTraining\n",
            "Training statusTraining\n",
            "Training statusTraining\n",
            "Training statusTraining\n",
            "Training statusTraining\n",
            "Training statusTraining\n",
            "Training statusTraining\n",
            "Training statusTraining\n",
            "Training statusTraining\n",
            "Training statusTraining\n",
            "Training statusTraining\n",
            "Training statusTraining\n",
            "Training statusTraining\n",
            "Training statusTraining\n",
            "Training statusTraining\n",
            "Training statusTraining\n",
            "Training statusTraining\n",
            "Training statusTraining\n",
            "Training statusTraining\n",
            "Training statusTraining\n",
            "Training statusTraining\n",
            "Training statusTraining\n",
            "Training statusTraining\n",
            "Training statusTraining\n",
            "Training statusTraining\n",
            "Training statusTraining\n",
            "Training statusTraining\n",
            "Training statusTraining\n",
            "Training statusTraining\n",
            "Training statusTraining\n",
            "Training statusTraining\n",
            "Training statusTraining\n",
            "Training statusTraining\n",
            "Training statusTraining\n",
            "Training statusTraining\n",
            "Training statusTraining\n",
            "Training statusTraining\n",
            "Training statusTraining\n",
            "Training statusTraining\n",
            "Training statusTraining\n",
            "Training statusTraining\n",
            "Training statusTraining\n",
            "Training statusTraining\n",
            "Training statusTraining\n",
            "Training statusTraining\n",
            "Training statusTraining\n",
            "Training statusTraining\n",
            "Training statusTraining\n",
            "Training statusTraining\n",
            "Training statusTraining\n",
            "Training statusTraining\n",
            "Training statusTraining\n",
            "Training statusTraining\n",
            "Training statusCompleted\n",
            "Done!\n"
          ]
        }
      ]
    },
    {
      "cell_type": "code",
      "source": [],
      "metadata": {
        "id": "Vsndbve2FKK2"
      },
      "execution_count": null,
      "outputs": []
    }
  ]
}