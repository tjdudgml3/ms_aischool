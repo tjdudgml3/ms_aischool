{
  "nbformat": 4,
  "nbformat_minor": 0,
  "metadata": {
    "colab": {
      "provenance": [],
      "authorship_tag": "ABX9TyP0hmRxBmldFTK2hC6J6Tac",
      "include_colab_link": true
    },
    "kernelspec": {
      "name": "python3",
      "display_name": "Python 3"
    },
    "language_info": {
      "name": "python"
    }
  },
  "cells": [
    {
      "cell_type": "markdown",
      "metadata": {
        "id": "view-in-github",
        "colab_type": "text"
      },
      "source": [
        "<a href=\"https://colab.research.google.com/github/tjdudgml3/ms_aischool/blob/main/%ED%99%95%EB%A5%A0.ipynb\" target=\"_parent\"><img src=\"https://colab.research.google.com/assets/colab-badge.svg\" alt=\"Open In Colab\"/></a>"
      ]
    },
    {
      "cell_type": "code",
      "execution_count": null,
      "metadata": {
        "id": "LhvcuqT53kUg"
      },
      "outputs": [],
      "source": []
    },
    {
      "cell_type": "markdown",
      "source": [
        "## 확률\n",
        "표본공간(S)\n",
        "\n",
        "- 사건이 일어날 확률\n",
        "\n",
        "- 고전적 확률 정의\n",
        "      실험결과가 N 가지 일 때 일어난 사건A가 m번 일어났으면 P(A) = m/N\n",
        "      각 실험 가능성은 모두 같을 때\n",
        "      (예시 주사위 {1,2,3,4,5,6} 1/6 1/6 1/6 1/6)\n",
        "\n",
        "- 경험적 정의\n",
        "      반복 횟수를 N이라 했을 때 무한번 반복했을 때 발생한는 A 횟수 m\n",
        "      P(A) = lim m/N\n",
        "\n",
        "- 공리적 정의\n",
        "      콜모코로프 공리적 정의 세가지\n",
        "      0 <= P(A) <= 1\n",
        "      P(S) = 1\n",
        "      실험이 표본공간의 부분집합 이면서 다른 사건과 교집합이 없을 때 각 실험의 확율을 더한 값과 합집합의 확률과 같다.\n",
        "      예를 들면 동전 두개 던지기를 합니다.\n",
        "      앞면 : H, 뒷면, T\n",
        "      표본공간 = S{HH, HT, TT, TH}\n",
        "      앞이 안 나오는 사건(A{TT}) 과 뒷면이 안 나올 사건(B{HH})면 A와 B는 교집합이 없습니다. \n",
        "      P(AUB) = P({TT,HH}) = P({TT}) + P({HH})\n",
        "      P(AUB) = P(A) + P(B)"
      ],
      "metadata": {
        "id": "IzkBJGI637T0"
      }
    },
    {
      "cell_type": "code",
      "source": [],
      "metadata": {
        "id": "o7u2KNu446US"
      },
      "execution_count": null,
      "outputs": []
    },
    {
      "cell_type": "markdown",
      "source": [
        "## 확률의 성질\n",
        "- 공징합의 확률 0 \n",
        "- 여집합의 확률 \n",
        "\n",
        "  실험 A의 여집합의 확률은 1 -P(A)\n",
        "\n",
        "- 포함-배제 원리\n",
        "  p(AUB) = P(A) + P(B) - P(AnB)\n",
        "\n",
        "- 각 사건이 배반 사상일경우\n",
        "  P(A1 U A2 ... U An) = P(A1) + P(A2) + ... P(An)\n",
        "  A가 B의 부분직합일때 P(A)  <= P(B)\n",
        "  "
      ],
      "metadata": {
        "id": "uZpqKaaq47GV"
      }
    },
    {
      "cell_type": "markdown",
      "source": [
        "##조건부확률\n",
        "- 어떤 사건 B가 일어날떄 P(B) > 0 사건 A가 일어날 확률 \n",
        "\n",
        "$$ P(A|B) = \\frac{P(A\\cap B)}{P(B)}$$ \n",
        "\n",
        "- 사건 A 가 발생했을때 사건 B가 발생될 확률\n",
        "\n",
        "$$ P(A|B) = \\frac{P(A\\cap B)}{P(A)}$$\n",
        "\n",
        "$$ P(A|B)P(B) = {P(A\\cap B)}$$ \n",
        "\n",
        "- 독립사건\n",
        "  \n",
        "$$ P(A \\cap B) = P(A)P(B)$$ \n",
        "\n"
      ],
      "metadata": {
        "id": "c7lxkNsh6Nvf"
      }
    },
    {
      "cell_type": "markdown",
      "source": [],
      "metadata": {
        "id": "653NfGCHBpou"
      }
    },
    {
      "cell_type": "markdown",
      "source": [
        "##베이즈 정리\n",
        "\n",
        "- 분할사건\n",
        "\n",
        "  사건  K개가 일어났을 때 A1 ... Ak 서로 다 교집합이 없는 분할 사건\n",
        "  사건 K개를 모두 합집합 했을때 S가 되는 경우 \n",
        "\n",
        "$$ B = (B \\cap {A_1} ) U ... U ( B \\cap {A_k}) $$\n",
        "$$ P(B) = P(B \\cap {A_1}) + ... + P(B ∩ {A_k})$$\n",
        "\n",
        "$$ P({A_1}|B) = \\frac{P(B|{A_1})P({A_1})}{P(B)} = \\frac{P(B|{A_1})P({A_1})}{P(B|)}$$ "
      ],
      "metadata": {
        "id": "T2irZbNI8boS"
      }
    },
    {
      "cell_type": "code",
      "source": [],
      "metadata": {
        "id": "NPzCsHCj8bDl"
      },
      "execution_count": null,
      "outputs": []
    }
  ]
}